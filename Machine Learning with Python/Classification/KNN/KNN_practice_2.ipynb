{
 "cells": [
  {
   "cell_type": "code",
   "execution_count": 2,
   "metadata": {},
   "outputs": [],
   "source": [
    "import pandas as pd\n",
    "import numpy as np\n",
    "from sklearn import preprocessing\n",
    "from sklearn.neighbors import KNeighborsClassifier\n",
    "from sklearn import metrics\n",
    "from sklearn.model_selection import train_test_split\n",
    "import matplotlib.pyplot as plt\n",
    "import seaborn as sns\n",
    "%matplotlib inline"
   ]
  },
  {
   "cell_type": "code",
   "execution_count": 3,
   "metadata": {},
   "outputs": [
    {
     "data": {
      "text/html": [
       "<div>\n",
       "<style scoped>\n",
       "    .dataframe tbody tr th:only-of-type {\n",
       "        vertical-align: middle;\n",
       "    }\n",
       "\n",
       "    .dataframe tbody tr th {\n",
       "        vertical-align: top;\n",
       "    }\n",
       "\n",
       "    .dataframe thead th {\n",
       "        text-align: right;\n",
       "    }\n",
       "</style>\n",
       "<table border=\"1\" class=\"dataframe\">\n",
       "  <thead>\n",
       "    <tr style=\"text-align: right;\">\n",
       "      <th></th>\n",
       "      <th>status</th>\n",
       "      <th>loan_amnt</th>\n",
       "      <th>term</th>\n",
       "      <th>annual_inc</th>\n",
       "      <th>dti</th>\n",
       "      <th>payment_inc_ratio</th>\n",
       "      <th>revol_bal</th>\n",
       "      <th>revol_util</th>\n",
       "      <th>home_ownership</th>\n",
       "      <th>grade</th>\n",
       "      <th>outcome</th>\n",
       "      <th>emp_length</th>\n",
       "      <th>emp_len_</th>\n",
       "      <th>borrower_score</th>\n",
       "    </tr>\n",
       "  </thead>\n",
       "  <tbody>\n",
       "    <tr>\n",
       "      <th>0</th>\n",
       "      <td>Charged Off</td>\n",
       "      <td>2500</td>\n",
       "      <td>f</td>\n",
       "      <td>12000</td>\n",
       "      <td>16.30</td>\n",
       "      <td>7.77800</td>\n",
       "      <td>4853</td>\n",
       "      <td>42.2</td>\n",
       "      <td>OWN</td>\n",
       "      <td>6.6</td>\n",
       "      <td>default</td>\n",
       "      <td>0</td>\n",
       "      <td>f</td>\n",
       "      <td>0.40</td>\n",
       "    </tr>\n",
       "    <tr>\n",
       "      <th>1</th>\n",
       "      <td>Charged Off</td>\n",
       "      <td>1000</td>\n",
       "      <td>f</td>\n",
       "      <td>18408</td>\n",
       "      <td>6.00</td>\n",
       "      <td>2.24902</td>\n",
       "      <td>2510</td>\n",
       "      <td>83.7</td>\n",
       "      <td>RENT</td>\n",
       "      <td>4.6</td>\n",
       "      <td>default</td>\n",
       "      <td>0</td>\n",
       "      <td>f</td>\n",
       "      <td>0.35</td>\n",
       "    </tr>\n",
       "    <tr>\n",
       "      <th>2</th>\n",
       "      <td>Charged Off</td>\n",
       "      <td>1700</td>\n",
       "      <td>f</td>\n",
       "      <td>37800</td>\n",
       "      <td>27.00</td>\n",
       "      <td>1.68889</td>\n",
       "      <td>16333</td>\n",
       "      <td>91.2</td>\n",
       "      <td>MORTGAGE</td>\n",
       "      <td>6.8</td>\n",
       "      <td>default</td>\n",
       "      <td>0</td>\n",
       "      <td>f</td>\n",
       "      <td>0.25</td>\n",
       "    </tr>\n",
       "    <tr>\n",
       "      <th>3</th>\n",
       "      <td>Charged Off</td>\n",
       "      <td>8575</td>\n",
       "      <td>f</td>\n",
       "      <td>32000</td>\n",
       "      <td>22.54</td>\n",
       "      <td>11.55790</td>\n",
       "      <td>20142</td>\n",
       "      <td>89.9</td>\n",
       "      <td>MORTGAGE</td>\n",
       "      <td>3.8</td>\n",
       "      <td>default</td>\n",
       "      <td>0</td>\n",
       "      <td>f</td>\n",
       "      <td>0.55</td>\n",
       "    </tr>\n",
       "    <tr>\n",
       "      <th>4</th>\n",
       "      <td>Charged Off</td>\n",
       "      <td>14125</td>\n",
       "      <td>f</td>\n",
       "      <td>45696</td>\n",
       "      <td>21.93</td>\n",
       "      <td>12.39500</td>\n",
       "      <td>15831</td>\n",
       "      <td>91.5</td>\n",
       "      <td>MORTGAGE</td>\n",
       "      <td>5.8</td>\n",
       "      <td>default</td>\n",
       "      <td>0</td>\n",
       "      <td>f</td>\n",
       "      <td>0.30</td>\n",
       "    </tr>\n",
       "  </tbody>\n",
       "</table>\n",
       "</div>"
      ],
      "text/plain": [
       "        status  loan_amnt term  annual_inc    dti  payment_inc_ratio  \\\n",
       "0  Charged Off       2500    f       12000  16.30            7.77800   \n",
       "1  Charged Off       1000    f       18408   6.00            2.24902   \n",
       "2  Charged Off       1700    f       37800  27.00            1.68889   \n",
       "3  Charged Off       8575    f       32000  22.54           11.55790   \n",
       "4  Charged Off      14125    f       45696  21.93           12.39500   \n",
       "\n",
       "   revol_bal  revol_util home_ownership  grade  outcome  emp_length emp_len_  \\\n",
       "0       4853        42.2            OWN    6.6  default           0        f   \n",
       "1       2510        83.7           RENT    4.6  default           0        f   \n",
       "2      16333        91.2       MORTGAGE    6.8  default           0        f   \n",
       "3      20142        89.9       MORTGAGE    3.8  default           0        f   \n",
       "4      15831        91.5       MORTGAGE    5.8  default           0        f   \n",
       "\n",
       "   borrower_score  \n",
       "0            0.40  \n",
       "1            0.35  \n",
       "2            0.25  \n",
       "3            0.55  \n",
       "4            0.30  "
      ]
     },
     "execution_count": 3,
     "metadata": {},
     "output_type": "execute_result"
    }
   ],
   "source": [
    "df = pd.read_csv(\"./loan_data_modified2.csv\")\n",
    "df.head()  # muestra 5 por defecto"
   ]
  },
  {
   "cell_type": "code",
   "execution_count": 10,
   "metadata": {},
   "outputs": [
    {
     "data": {
      "text/plain": [
       "Index(['status', 'loan_amnt', 'term', 'annual_inc', 'dti', 'payment_inc_ratio',\n",
       "       'revol_bal', 'revol_util', 'home_ownership', 'grade', 'outcome',\n",
       "       'emp_length', 'emp_len_', 'borrower_score'],\n",
       "      dtype='object')"
      ]
     },
     "execution_count": 10,
     "metadata": {},
     "output_type": "execute_result"
    }
   ],
   "source": [
    "df.columns"
   ]
  },
  {
   "cell_type": "code",
   "execution_count": 5,
   "metadata": {},
   "outputs": [],
   "source": [
    "# definimos nuestros predictores y nuestros outcome\n",
    "predictor = [ 'loan_amnt', 'annual_inc', 'dti', 'payment_inc_ratio','revol_bal', 'revol_util', 'grade','emp_length', 'borrower_score']\n",
    "outcome = 'outcome'"
   ]
  },
  {
   "cell_type": "code",
   "execution_count": 6,
   "metadata": {},
   "outputs": [],
   "source": [
    "X = df[predictor]\n",
    "Y = df[outcome]"
   ]
  },
  {
   "cell_type": "code",
   "execution_count": 7,
   "metadata": {},
   "outputs": [],
   "source": [
    "X = preprocessing.StandardScaler().fit(X).transform(X.astype(float))  # estandarizamos los datos numericos"
   ]
  },
  {
   "cell_type": "code",
   "execution_count": 86,
   "metadata": {},
   "outputs": [],
   "source": [
    "aux = df['emp_len_']"
   ]
  },
  {
   "cell_type": "code",
   "execution_count": 90,
   "metadata": {},
   "outputs": [
    {
     "name": "stderr",
     "output_type": "stream",
     "text": [
      "/tmp/ipykernel_3206/1540016850.py:1: SettingWithCopyWarning: \n",
      "A value is trying to be set on a copy of a slice from a DataFrame\n",
      "\n",
      "See the caveats in the documentation: https://pandas.pydata.org/pandas-docs/stable/user_guide/indexing.html#returning-a-view-versus-a-copy\n",
      "  aux[aux == 'f'] = False\n"
     ]
    }
   ],
   "source": [
    "aux[aux == 'f'] = False"
   ]
  },
  {
   "cell_type": "code",
   "execution_count": 92,
   "metadata": {},
   "outputs": [
    {
     "name": "stderr",
     "output_type": "stream",
     "text": [
      "/tmp/ipykernel_3206/350803457.py:1: SettingWithCopyWarning: \n",
      "A value is trying to be set on a copy of a slice from a DataFrame\n",
      "\n",
      "See the caveats in the documentation: https://pandas.pydata.org/pandas-docs/stable/user_guide/indexing.html#returning-a-view-versus-a-copy\n",
      "  aux[aux == 't'] = True\n"
     ]
    }
   ],
   "source": [
    "aux[aux == 't'] = True"
   ]
  },
  {
   "cell_type": "code",
   "execution_count": 94,
   "metadata": {},
   "outputs": [],
   "source": [
    "aux = aux.astype(bool)"
   ]
  },
  {
   "cell_type": "code",
   "execution_count": 96,
   "metadata": {},
   "outputs": [],
   "source": [
    "df['emp_len_'] = aux"
   ]
  },
  {
   "cell_type": "code",
   "execution_count": 99,
   "metadata": {},
   "outputs": [],
   "source": [
    "aux = df['term']"
   ]
  },
  {
   "cell_type": "code",
   "execution_count": 100,
   "metadata": {},
   "outputs": [
    {
     "name": "stderr",
     "output_type": "stream",
     "text": [
      "/tmp/ipykernel_3206/1540016850.py:1: SettingWithCopyWarning: \n",
      "A value is trying to be set on a copy of a slice from a DataFrame\n",
      "\n",
      "See the caveats in the documentation: https://pandas.pydata.org/pandas-docs/stable/user_guide/indexing.html#returning-a-view-versus-a-copy\n",
      "  aux[aux == 'f'] = False\n"
     ]
    }
   ],
   "source": [
    "aux[aux == 'f'] = False"
   ]
  },
  {
   "cell_type": "code",
   "execution_count": 101,
   "metadata": {},
   "outputs": [
    {
     "name": "stderr",
     "output_type": "stream",
     "text": [
      "/tmp/ipykernel_3206/350803457.py:1: SettingWithCopyWarning: \n",
      "A value is trying to be set on a copy of a slice from a DataFrame\n",
      "\n",
      "See the caveats in the documentation: https://pandas.pydata.org/pandas-docs/stable/user_guide/indexing.html#returning-a-view-versus-a-copy\n",
      "  aux[aux == 't'] = True\n"
     ]
    }
   ],
   "source": [
    "aux[aux == 't'] = True"
   ]
  },
  {
   "cell_type": "code",
   "execution_count": 102,
   "metadata": {},
   "outputs": [],
   "source": [
    "aux = aux.astype(bool)"
   ]
  },
  {
   "cell_type": "code",
   "execution_count": 105,
   "metadata": {},
   "outputs": [],
   "source": [
    "df['term'] = aux"
   ]
  },
  {
   "cell_type": "code",
   "execution_count": 106,
   "metadata": {},
   "outputs": [
    {
     "data": {
      "text/html": [
       "<div>\n",
       "<style scoped>\n",
       "    .dataframe tbody tr th:only-of-type {\n",
       "        vertical-align: middle;\n",
       "    }\n",
       "\n",
       "    .dataframe tbody tr th {\n",
       "        vertical-align: top;\n",
       "    }\n",
       "\n",
       "    .dataframe thead th {\n",
       "        text-align: right;\n",
       "    }\n",
       "</style>\n",
       "<table border=\"1\" class=\"dataframe\">\n",
       "  <thead>\n",
       "    <tr style=\"text-align: right;\">\n",
       "      <th></th>\n",
       "      <th>status</th>\n",
       "      <th>loan_amnt</th>\n",
       "      <th>term</th>\n",
       "      <th>annual_inc</th>\n",
       "      <th>dti</th>\n",
       "      <th>payment_inc_ratio</th>\n",
       "      <th>revol_bal</th>\n",
       "      <th>revol_util</th>\n",
       "      <th>home_ownership</th>\n",
       "      <th>grade</th>\n",
       "      <th>outcome</th>\n",
       "      <th>emp_length</th>\n",
       "      <th>emp_len_</th>\n",
       "      <th>borrower_score</th>\n",
       "    </tr>\n",
       "  </thead>\n",
       "  <tbody>\n",
       "    <tr>\n",
       "      <th>0</th>\n",
       "      <td>Charged Off</td>\n",
       "      <td>2500</td>\n",
       "      <td>False</td>\n",
       "      <td>12000</td>\n",
       "      <td>16.30</td>\n",
       "      <td>7.77800</td>\n",
       "      <td>4853</td>\n",
       "      <td>42.2</td>\n",
       "      <td>OWN</td>\n",
       "      <td>6.6</td>\n",
       "      <td>default</td>\n",
       "      <td>0</td>\n",
       "      <td>False</td>\n",
       "      <td>0.40</td>\n",
       "    </tr>\n",
       "    <tr>\n",
       "      <th>1</th>\n",
       "      <td>Charged Off</td>\n",
       "      <td>1000</td>\n",
       "      <td>False</td>\n",
       "      <td>18408</td>\n",
       "      <td>6.00</td>\n",
       "      <td>2.24902</td>\n",
       "      <td>2510</td>\n",
       "      <td>83.7</td>\n",
       "      <td>RENT</td>\n",
       "      <td>4.6</td>\n",
       "      <td>default</td>\n",
       "      <td>0</td>\n",
       "      <td>False</td>\n",
       "      <td>0.35</td>\n",
       "    </tr>\n",
       "    <tr>\n",
       "      <th>2</th>\n",
       "      <td>Charged Off</td>\n",
       "      <td>1700</td>\n",
       "      <td>False</td>\n",
       "      <td>37800</td>\n",
       "      <td>27.00</td>\n",
       "      <td>1.68889</td>\n",
       "      <td>16333</td>\n",
       "      <td>91.2</td>\n",
       "      <td>MORTGAGE</td>\n",
       "      <td>6.8</td>\n",
       "      <td>default</td>\n",
       "      <td>0</td>\n",
       "      <td>False</td>\n",
       "      <td>0.25</td>\n",
       "    </tr>\n",
       "    <tr>\n",
       "      <th>3</th>\n",
       "      <td>Charged Off</td>\n",
       "      <td>8575</td>\n",
       "      <td>False</td>\n",
       "      <td>32000</td>\n",
       "      <td>22.54</td>\n",
       "      <td>11.55790</td>\n",
       "      <td>20142</td>\n",
       "      <td>89.9</td>\n",
       "      <td>MORTGAGE</td>\n",
       "      <td>3.8</td>\n",
       "      <td>default</td>\n",
       "      <td>0</td>\n",
       "      <td>False</td>\n",
       "      <td>0.55</td>\n",
       "    </tr>\n",
       "    <tr>\n",
       "      <th>4</th>\n",
       "      <td>Charged Off</td>\n",
       "      <td>14125</td>\n",
       "      <td>False</td>\n",
       "      <td>45696</td>\n",
       "      <td>21.93</td>\n",
       "      <td>12.39500</td>\n",
       "      <td>15831</td>\n",
       "      <td>91.5</td>\n",
       "      <td>MORTGAGE</td>\n",
       "      <td>5.8</td>\n",
       "      <td>default</td>\n",
       "      <td>0</td>\n",
       "      <td>False</td>\n",
       "      <td>0.30</td>\n",
       "    </tr>\n",
       "    <tr>\n",
       "      <th>...</th>\n",
       "      <td>...</td>\n",
       "      <td>...</td>\n",
       "      <td>...</td>\n",
       "      <td>...</td>\n",
       "      <td>...</td>\n",
       "      <td>...</td>\n",
       "      <td>...</td>\n",
       "      <td>...</td>\n",
       "      <td>...</td>\n",
       "      <td>...</td>\n",
       "      <td>...</td>\n",
       "      <td>...</td>\n",
       "      <td>...</td>\n",
       "      <td>...</td>\n",
       "    </tr>\n",
       "    <tr>\n",
       "      <th>45337</th>\n",
       "      <td>Fully Paid</td>\n",
       "      <td>21000</td>\n",
       "      <td>False</td>\n",
       "      <td>86666</td>\n",
       "      <td>24.08</td>\n",
       "      <td>10.58380</td>\n",
       "      <td>24895</td>\n",
       "      <td>61.3</td>\n",
       "      <td>RENT</td>\n",
       "      <td>3.4</td>\n",
       "      <td>paid off</td>\n",
       "      <td>7</td>\n",
       "      <td>True</td>\n",
       "      <td>0.55</td>\n",
       "    </tr>\n",
       "    <tr>\n",
       "      <th>45338</th>\n",
       "      <td>Fully Paid</td>\n",
       "      <td>8000</td>\n",
       "      <td>False</td>\n",
       "      <td>72000</td>\n",
       "      <td>18.97</td>\n",
       "      <td>4.57850</td>\n",
       "      <td>9725</td>\n",
       "      <td>58.2</td>\n",
       "      <td>RENT</td>\n",
       "      <td>4.2</td>\n",
       "      <td>paid off</td>\n",
       "      <td>8</td>\n",
       "      <td>True</td>\n",
       "      <td>0.35</td>\n",
       "    </tr>\n",
       "    <tr>\n",
       "      <th>45339</th>\n",
       "      <td>Fully Paid</td>\n",
       "      <td>2000</td>\n",
       "      <td>False</td>\n",
       "      <td>25200</td>\n",
       "      <td>13.24</td>\n",
       "      <td>3.20333</td>\n",
       "      <td>4925</td>\n",
       "      <td>40.7</td>\n",
       "      <td>MORTGAGE</td>\n",
       "      <td>4.2</td>\n",
       "      <td>paid off</td>\n",
       "      <td>3</td>\n",
       "      <td>True</td>\n",
       "      <td>0.50</td>\n",
       "    </tr>\n",
       "    <tr>\n",
       "      <th>45340</th>\n",
       "      <td>Fully Paid</td>\n",
       "      <td>4375</td>\n",
       "      <td>False</td>\n",
       "      <td>20000</td>\n",
       "      <td>7.95</td>\n",
       "      <td>9.98460</td>\n",
       "      <td>6574</td>\n",
       "      <td>73.0</td>\n",
       "      <td>MORTGAGE</td>\n",
       "      <td>2.4</td>\n",
       "      <td>paid off</td>\n",
       "      <td>1</td>\n",
       "      <td>True</td>\n",
       "      <td>0.55</td>\n",
       "    </tr>\n",
       "    <tr>\n",
       "      <th>45341</th>\n",
       "      <td>Fully Paid</td>\n",
       "      <td>8000</td>\n",
       "      <td>False</td>\n",
       "      <td>48000</td>\n",
       "      <td>26.91</td>\n",
       "      <td>6.45250</td>\n",
       "      <td>10303</td>\n",
       "      <td>32.4</td>\n",
       "      <td>MORTGAGE</td>\n",
       "      <td>5.2</td>\n",
       "      <td>paid off</td>\n",
       "      <td>1</td>\n",
       "      <td>True</td>\n",
       "      <td>0.65</td>\n",
       "    </tr>\n",
       "  </tbody>\n",
       "</table>\n",
       "<p>45342 rows × 14 columns</p>\n",
       "</div>"
      ],
      "text/plain": [
       "            status  loan_amnt   term  annual_inc    dti  payment_inc_ratio  \\\n",
       "0      Charged Off       2500  False       12000  16.30            7.77800   \n",
       "1      Charged Off       1000  False       18408   6.00            2.24902   \n",
       "2      Charged Off       1700  False       37800  27.00            1.68889   \n",
       "3      Charged Off       8575  False       32000  22.54           11.55790   \n",
       "4      Charged Off      14125  False       45696  21.93           12.39500   \n",
       "...            ...        ...    ...         ...    ...                ...   \n",
       "45337   Fully Paid      21000  False       86666  24.08           10.58380   \n",
       "45338   Fully Paid       8000  False       72000  18.97            4.57850   \n",
       "45339   Fully Paid       2000  False       25200  13.24            3.20333   \n",
       "45340   Fully Paid       4375  False       20000   7.95            9.98460   \n",
       "45341   Fully Paid       8000  False       48000  26.91            6.45250   \n",
       "\n",
       "       revol_bal  revol_util home_ownership  grade   outcome  emp_length  \\\n",
       "0           4853        42.2            OWN    6.6   default           0   \n",
       "1           2510        83.7           RENT    4.6   default           0   \n",
       "2          16333        91.2       MORTGAGE    6.8   default           0   \n",
       "3          20142        89.9       MORTGAGE    3.8   default           0   \n",
       "4          15831        91.5       MORTGAGE    5.8   default           0   \n",
       "...          ...         ...            ...    ...       ...         ...   \n",
       "45337      24895        61.3           RENT    3.4  paid off           7   \n",
       "45338       9725        58.2           RENT    4.2  paid off           8   \n",
       "45339       4925        40.7       MORTGAGE    4.2  paid off           3   \n",
       "45340       6574        73.0       MORTGAGE    2.4  paid off           1   \n",
       "45341      10303        32.4       MORTGAGE    5.2  paid off           1   \n",
       "\n",
       "       emp_len_  borrower_score  \n",
       "0         False            0.40  \n",
       "1         False            0.35  \n",
       "2         False            0.25  \n",
       "3         False            0.55  \n",
       "4         False            0.30  \n",
       "...         ...             ...  \n",
       "45337      True            0.55  \n",
       "45338      True            0.35  \n",
       "45339      True            0.50  \n",
       "45340      True            0.55  \n",
       "45341      True            0.65  \n",
       "\n",
       "[45342 rows x 14 columns]"
      ]
     },
     "execution_count": 106,
     "metadata": {},
     "output_type": "execute_result"
    }
   ],
   "source": [
    "df"
   ]
  },
  {
   "cell_type": "code",
   "execution_count": 6,
   "metadata": {},
   "outputs": [
    {
     "data": {
      "text/plain": [
       "array([[-1.31728848e+00, -9.99525084e-01,  2.18924314e-02, ...,\n",
       "         1.35283375e+00, -1.68439656e+00, -7.69364349e-01],\n",
       "       [-1.50273823e+00, -8.85581596e-01, -1.33429911e+00, ...,\n",
       "         6.17327864e-04, -1.68439656e+00, -1.15790693e+00],\n",
       "       [-1.41619501e+00, -5.40763848e-01,  1.43075161e+00, ...,\n",
       "         1.48805540e+00, -1.68439656e+00, -1.93499208e+00],\n",
       "       ...,\n",
       "       [-1.37910506e+00, -7.64810033e-01, -3.81014959e-01, ...,\n",
       "        -2.69825957e-01, -8.84982278e-01,  7.72080771e-03],\n",
       "       [-1.08547629e+00, -8.57273538e-01, -1.07754440e+00, ...,\n",
       "        -1.48682074e+00, -1.41792513e+00,  3.96263386e-01],\n",
       "       [-6.37306052e-01, -3.59393127e-01,  1.41890139e+00, ...,\n",
       "         4.06282255e-01, -1.41792513e+00,  1.17334854e+00]])"
      ]
     },
     "execution_count": 6,
     "metadata": {},
     "output_type": "execute_result"
    }
   ],
   "source": [
    "X"
   ]
  },
  {
   "cell_type": "code",
   "execution_count": 7,
   "metadata": {},
   "outputs": [
    {
     "data": {
      "text/plain": [
       "0         default\n",
       "1         default\n",
       "2         default\n",
       "3         default\n",
       "4         default\n",
       "           ...   \n",
       "45337    paid off\n",
       "45338    paid off\n",
       "45339    paid off\n",
       "45340    paid off\n",
       "45341    paid off\n",
       "Name: outcome, Length: 45342, dtype: object"
      ]
     },
     "execution_count": 7,
     "metadata": {},
     "output_type": "execute_result"
    }
   ],
   "source": [
    "Y"
   ]
  },
  {
   "cell_type": "code",
   "execution_count": 8,
   "metadata": {},
   "outputs": [],
   "source": [
    "X_train,X_test,y_train,y_test = train_test_split(X,Y,random_state=4,test_size=0.2)"
   ]
  },
  {
   "cell_type": "code",
   "execution_count": 10,
   "metadata": {},
   "outputs": [
    {
     "data": {
      "text/plain": [
       "0.6280736575146102"
      ]
     },
     "execution_count": 10,
     "metadata": {},
     "output_type": "execute_result"
    }
   ],
   "source": [
    "K = 10\n",
    "knn = KNeighborsClassifier(n_neighbors=K)\n",
    "knn.fit(X_train,y_train)\n",
    "y_hat = knn.predict(X_test)\n",
    "metrics.accuracy_score(y_test,y_hat)"
   ]
  },
  {
   "cell_type": "code",
   "execution_count": 11,
   "metadata": {},
   "outputs": [
    {
     "data": {
      "text/plain": [
       "0.6372257139706693"
      ]
     },
     "execution_count": 11,
     "metadata": {},
     "output_type": "execute_result"
    }
   ],
   "source": [
    "K = 20\n",
    "knn = KNeighborsClassifier(n_neighbors=K)\n",
    "knn.fit(X_train,y_train)\n",
    "y_hat = knn.predict(X_test)\n",
    "metrics.accuracy_score(y_test,y_hat)"
   ]
  },
  {
   "cell_type": "code",
   "execution_count": 12,
   "metadata": {},
   "outputs": [
    {
     "data": {
      "text/plain": [
       "0.6516705259675819"
      ]
     },
     "execution_count": 12,
     "metadata": {},
     "output_type": "execute_result"
    }
   ],
   "source": [
    "K = 90\n",
    "knn = KNeighborsClassifier(n_neighbors=K)\n",
    "knn.fit(X_train,y_train)\n",
    "y_hat = knn.predict(X_test)\n",
    "metrics.accuracy_score(y_test,y_hat)"
   ]
  },
  {
   "cell_type": "code",
   "execution_count": 13,
   "metadata": {},
   "outputs": [
    {
     "data": {
      "text/plain": [
       "0.6505678685632375"
      ]
     },
     "execution_count": 13,
     "metadata": {},
     "output_type": "execute_result"
    }
   ],
   "source": [
    "K = 200\n",
    "knn = KNeighborsClassifier(n_neighbors=K)\n",
    "knn.fit(X_train,y_train)\n",
    "y_hat = knn.predict(X_test)\n",
    "metrics.accuracy_score(y_test,y_hat)"
   ]
  },
  {
   "cell_type": "code",
   "execution_count": 9,
   "metadata": {},
   "outputs": [],
   "source": [
    "Ks = 60\n",
    "mean_array = np.zeros((Ks))\n",
    "std_array = np.zeros((Ks))\n",
    "for n in range(1,Ks+1):\n",
    "    knn = KNeighborsClassifier(n_neighbors=n)\n",
    "    knn.fit(X_train,y_train)\n",
    "    y_hat = knn.predict(X_test)\n",
    "    mean_array[n-1] = metrics.accuracy_score(y_test,y_hat)\n",
    "    std_array[n-1] = np.std(y_test == y_hat) / np.sqrt(y_test.shape[0])\n"
   ]
  },
  {
   "cell_type": "code",
   "execution_count": 11,
   "metadata": {},
   "outputs": [
    {
     "data": {
      "image/png": "[encoded data removed]",
      "text/plain": [
       "<Figure size 640x480 with 1 Axes>"
      ]
     },
     "metadata": {},
     "output_type": "display_data"
    }
   ],
   "source": [
    "plt.plot(range(1,Ks+1),mean_array,'green')\n",
    "plt.fill_between(range(1,Ks+1), mean_array - 1 * std_array,mean_array + 1 * std_array, alpha = 0.1, color = 'red')\n",
    "plt.show()"
   ]
  },
  {
   "cell_type": "code",
   "execution_count": 12,
   "metadata": {},
   "outputs": [
    {
     "data": {
      "text/plain": [
       "0.6505678685632375"
      ]
     },
     "execution_count": 12,
     "metadata": {},
     "output_type": "execute_result"
    }
   ],
   "source": [
    "mean_array.max()"
   ]
  },
  {
   "cell_type": "code",
   "execution_count": 13,
   "metadata": {},
   "outputs": [
    {
     "data": {
      "text/plain": [
       "59"
      ]
     },
     "execution_count": 13,
     "metadata": {},
     "output_type": "execute_result"
    }
   ],
   "source": [
    "mean_array.argmax()"
   ]
  },
  {
   "cell_type": "code",
   "execution_count": 14,
   "metadata": {},
   "outputs": [
    {
     "data": {
      "text/plain": [
       "0.6353511963832837"
      ]
     },
     "execution_count": 14,
     "metadata": {},
     "output_type": "execute_result"
    }
   ],
   "source": [
    "mean_array[21]"
   ]
  },
  {
   "cell_type": "code",
   "execution_count": 15,
   "metadata": {},
   "outputs": [],
   "source": [
    "knn = KNeighborsClassifier(n_neighbors=59)\n",
    "knn.fit(X_train,y_train)\n",
    "y_hat = knn.predict(X_test)"
   ]
  },
  {
   "cell_type": "code",
   "execution_count": 18,
   "metadata": {},
   "outputs": [],
   "source": [
    "y_hat_prob = knn.predict_proba(X)"
   ]
  },
  {
   "cell_type": "code",
   "execution_count": 20,
   "metadata": {},
   "outputs": [
    {
     "data": {
      "text/plain": [
       "array([0.45762712, 0.47457627, 0.44067797, ..., 0.50847458, 0.47457627,\n",
       "       0.50847458])"
      ]
     },
     "execution_count": 20,
     "metadata": {},
     "output_type": "execute_result"
    }
   ],
   "source": [
    "y_hat_prob[:,1]"
   ]
  },
  {
   "cell_type": "code",
   "execution_count": 23,
   "metadata": {},
   "outputs": [],
   "source": [
    "df['borrower_score2'] = y_hat_prob[:,1]"
   ]
  },
  {
   "cell_type": "code",
   "execution_count": 26,
   "metadata": {},
   "outputs": [
    {
     "data": {
      "text/plain": [
       "borrower_score     0.499006\n",
       "borrower_score2    0.510491\n",
       "dtype: float64"
      ]
     },
     "execution_count": 26,
     "metadata": {},
     "output_type": "execute_result"
    }
   ],
   "source": [
    "df[['borrower_score','borrower_score2']].mean()"
   ]
  },
  {
   "cell_type": "code",
   "execution_count": 27,
   "metadata": {},
   "outputs": [
    {
     "data": {
      "text/plain": [
       "array([[-1.31728848e+00, -9.99525084e-01,  2.18924314e-02, ...,\n",
       "         1.35283375e+00, -1.68439656e+00, -7.69364349e-01],\n",
       "       [-1.50273823e+00, -8.85581596e-01, -1.33429911e+00, ...,\n",
       "         6.17327864e-04, -1.68439656e+00, -1.15790693e+00],\n",
       "       [-1.41619501e+00, -5.40763848e-01,  1.43075161e+00, ...,\n",
       "         1.48805540e+00, -1.68439656e+00, -1.93499208e+00],\n",
       "       ...,\n",
       "       [-1.37910506e+00, -7.64810033e-01, -3.81014959e-01, ...,\n",
       "        -2.69825957e-01, -8.84982278e-01,  7.72080771e-03],\n",
       "       [-1.08547629e+00, -8.57273538e-01, -1.07754440e+00, ...,\n",
       "        -1.48682074e+00, -1.41792513e+00,  3.96263386e-01],\n",
       "       [-6.37306052e-01, -3.59393127e-01,  1.41890139e+00, ...,\n",
       "         4.06282255e-01, -1.41792513e+00,  1.17334854e+00]])"
      ]
     },
     "execution_count": 27,
     "metadata": {},
     "output_type": "execute_result"
    }
   ],
   "source": [
    "X"
   ]
  },
  {
   "cell_type": "code",
   "execution_count": 28,
   "metadata": {},
   "outputs": [
    {
     "data": {
      "text/plain": [
       "0.6615720524017468"
      ]
     },
     "execution_count": 28,
     "metadata": {},
     "output_type": "execute_result"
    }
   ],
   "source": [
    "y_hat = knn.predict(X)\n",
    "metrics.accuracy_score(Y,y_hat)"
   ]
  },
  {
   "cell_type": "code",
   "execution_count": 29,
   "metadata": {},
   "outputs": [
    {
     "data": {
      "text/html": [
       "<div>\n",
       "<style scoped>\n",
       "    .dataframe tbody tr th:only-of-type {\n",
       "        vertical-align: middle;\n",
       "    }\n",
       "\n",
       "    .dataframe tbody tr th {\n",
       "        vertical-align: top;\n",
       "    }\n",
       "\n",
       "    .dataframe thead th {\n",
       "        text-align: right;\n",
       "    }\n",
       "</style>\n",
       "<table border=\"1\" class=\"dataframe\">\n",
       "  <thead>\n",
       "    <tr style=\"text-align: right;\">\n",
       "      <th></th>\n",
       "      <th>status</th>\n",
       "      <th>loan_amnt</th>\n",
       "      <th>term</th>\n",
       "      <th>annual_inc</th>\n",
       "      <th>dti</th>\n",
       "      <th>payment_inc_ratio</th>\n",
       "      <th>revol_bal</th>\n",
       "      <th>revol_util</th>\n",
       "      <th>home_ownership</th>\n",
       "      <th>grade</th>\n",
       "      <th>outcome</th>\n",
       "      <th>emp_length</th>\n",
       "      <th>emp_len_</th>\n",
       "      <th>borrower_score</th>\n",
       "      <th>borrower_score2</th>\n",
       "    </tr>\n",
       "  </thead>\n",
       "  <tbody>\n",
       "    <tr>\n",
       "      <th>0</th>\n",
       "      <td>Charged Off</td>\n",
       "      <td>2500</td>\n",
       "      <td>f</td>\n",
       "      <td>12000</td>\n",
       "      <td>16.30</td>\n",
       "      <td>7.77800</td>\n",
       "      <td>4853</td>\n",
       "      <td>42.2</td>\n",
       "      <td>OWN</td>\n",
       "      <td>6.6</td>\n",
       "      <td>default</td>\n",
       "      <td>0</td>\n",
       "      <td>f</td>\n",
       "      <td>0.40</td>\n",
       "      <td>0.457627</td>\n",
       "    </tr>\n",
       "    <tr>\n",
       "      <th>1</th>\n",
       "      <td>Charged Off</td>\n",
       "      <td>1000</td>\n",
       "      <td>f</td>\n",
       "      <td>18408</td>\n",
       "      <td>6.00</td>\n",
       "      <td>2.24902</td>\n",
       "      <td>2510</td>\n",
       "      <td>83.7</td>\n",
       "      <td>RENT</td>\n",
       "      <td>4.6</td>\n",
       "      <td>default</td>\n",
       "      <td>0</td>\n",
       "      <td>f</td>\n",
       "      <td>0.35</td>\n",
       "      <td>0.474576</td>\n",
       "    </tr>\n",
       "    <tr>\n",
       "      <th>2</th>\n",
       "      <td>Charged Off</td>\n",
       "      <td>1700</td>\n",
       "      <td>f</td>\n",
       "      <td>37800</td>\n",
       "      <td>27.00</td>\n",
       "      <td>1.68889</td>\n",
       "      <td>16333</td>\n",
       "      <td>91.2</td>\n",
       "      <td>MORTGAGE</td>\n",
       "      <td>6.8</td>\n",
       "      <td>default</td>\n",
       "      <td>0</td>\n",
       "      <td>f</td>\n",
       "      <td>0.25</td>\n",
       "      <td>0.440678</td>\n",
       "    </tr>\n",
       "    <tr>\n",
       "      <th>3</th>\n",
       "      <td>Charged Off</td>\n",
       "      <td>8575</td>\n",
       "      <td>f</td>\n",
       "      <td>32000</td>\n",
       "      <td>22.54</td>\n",
       "      <td>11.55790</td>\n",
       "      <td>20142</td>\n",
       "      <td>89.9</td>\n",
       "      <td>MORTGAGE</td>\n",
       "      <td>3.8</td>\n",
       "      <td>default</td>\n",
       "      <td>0</td>\n",
       "      <td>f</td>\n",
       "      <td>0.55</td>\n",
       "      <td>0.372881</td>\n",
       "    </tr>\n",
       "    <tr>\n",
       "      <th>4</th>\n",
       "      <td>Charged Off</td>\n",
       "      <td>14125</td>\n",
       "      <td>f</td>\n",
       "      <td>45696</td>\n",
       "      <td>21.93</td>\n",
       "      <td>12.39500</td>\n",
       "      <td>15831</td>\n",
       "      <td>91.5</td>\n",
       "      <td>MORTGAGE</td>\n",
       "      <td>5.8</td>\n",
       "      <td>default</td>\n",
       "      <td>0</td>\n",
       "      <td>f</td>\n",
       "      <td>0.30</td>\n",
       "      <td>0.322034</td>\n",
       "    </tr>\n",
       "    <tr>\n",
       "      <th>...</th>\n",
       "      <td>...</td>\n",
       "      <td>...</td>\n",
       "      <td>...</td>\n",
       "      <td>...</td>\n",
       "      <td>...</td>\n",
       "      <td>...</td>\n",
       "      <td>...</td>\n",
       "      <td>...</td>\n",
       "      <td>...</td>\n",
       "      <td>...</td>\n",
       "      <td>...</td>\n",
       "      <td>...</td>\n",
       "      <td>...</td>\n",
       "      <td>...</td>\n",
       "      <td>...</td>\n",
       "    </tr>\n",
       "    <tr>\n",
       "      <th>45337</th>\n",
       "      <td>Fully Paid</td>\n",
       "      <td>21000</td>\n",
       "      <td>f</td>\n",
       "      <td>86666</td>\n",
       "      <td>24.08</td>\n",
       "      <td>10.58380</td>\n",
       "      <td>24895</td>\n",
       "      <td>61.3</td>\n",
       "      <td>RENT</td>\n",
       "      <td>3.4</td>\n",
       "      <td>paid off</td>\n",
       "      <td>7</td>\n",
       "      <td>t</td>\n",
       "      <td>0.55</td>\n",
       "      <td>0.457627</td>\n",
       "    </tr>\n",
       "    <tr>\n",
       "      <th>45338</th>\n",
       "      <td>Fully Paid</td>\n",
       "      <td>8000</td>\n",
       "      <td>f</td>\n",
       "      <td>72000</td>\n",
       "      <td>18.97</td>\n",
       "      <td>4.57850</td>\n",
       "      <td>9725</td>\n",
       "      <td>58.2</td>\n",
       "      <td>RENT</td>\n",
       "      <td>4.2</td>\n",
       "      <td>paid off</td>\n",
       "      <td>8</td>\n",
       "      <td>t</td>\n",
       "      <td>0.35</td>\n",
       "      <td>0.288136</td>\n",
       "    </tr>\n",
       "    <tr>\n",
       "      <th>45339</th>\n",
       "      <td>Fully Paid</td>\n",
       "      <td>2000</td>\n",
       "      <td>f</td>\n",
       "      <td>25200</td>\n",
       "      <td>13.24</td>\n",
       "      <td>3.20333</td>\n",
       "      <td>4925</td>\n",
       "      <td>40.7</td>\n",
       "      <td>MORTGAGE</td>\n",
       "      <td>4.2</td>\n",
       "      <td>paid off</td>\n",
       "      <td>3</td>\n",
       "      <td>t</td>\n",
       "      <td>0.50</td>\n",
       "      <td>0.508475</td>\n",
       "    </tr>\n",
       "    <tr>\n",
       "      <th>45340</th>\n",
       "      <td>Fully Paid</td>\n",
       "      <td>4375</td>\n",
       "      <td>f</td>\n",
       "      <td>20000</td>\n",
       "      <td>7.95</td>\n",
       "      <td>9.98460</td>\n",
       "      <td>6574</td>\n",
       "      <td>73.0</td>\n",
       "      <td>MORTGAGE</td>\n",
       "      <td>2.4</td>\n",
       "      <td>paid off</td>\n",
       "      <td>1</td>\n",
       "      <td>t</td>\n",
       "      <td>0.55</td>\n",
       "      <td>0.474576</td>\n",
       "    </tr>\n",
       "    <tr>\n",
       "      <th>45341</th>\n",
       "      <td>Fully Paid</td>\n",
       "      <td>8000</td>\n",
       "      <td>f</td>\n",
       "      <td>48000</td>\n",
       "      <td>26.91</td>\n",
       "      <td>6.45250</td>\n",
       "      <td>10303</td>\n",
       "      <td>32.4</td>\n",
       "      <td>MORTGAGE</td>\n",
       "      <td>5.2</td>\n",
       "      <td>paid off</td>\n",
       "      <td>1</td>\n",
       "      <td>t</td>\n",
       "      <td>0.65</td>\n",
       "      <td>0.508475</td>\n",
       "    </tr>\n",
       "  </tbody>\n",
       "</table>\n",
       "<p>45342 rows × 15 columns</p>\n",
       "</div>"
      ],
      "text/plain": [
       "            status  loan_amnt term  annual_inc    dti  payment_inc_ratio  \\\n",
       "0      Charged Off       2500    f       12000  16.30            7.77800   \n",
       "1      Charged Off       1000    f       18408   6.00            2.24902   \n",
       "2      Charged Off       1700    f       37800  27.00            1.68889   \n",
       "3      Charged Off       8575    f       32000  22.54           11.55790   \n",
       "4      Charged Off      14125    f       45696  21.93           12.39500   \n",
       "...            ...        ...  ...         ...    ...                ...   \n",
       "45337   Fully Paid      21000    f       86666  24.08           10.58380   \n",
       "45338   Fully Paid       8000    f       72000  18.97            4.57850   \n",
       "45339   Fully Paid       2000    f       25200  13.24            3.20333   \n",
       "45340   Fully Paid       4375    f       20000   7.95            9.98460   \n",
       "45341   Fully Paid       8000    f       48000  26.91            6.45250   \n",
       "\n",
       "       revol_bal  revol_util home_ownership  grade   outcome  emp_length  \\\n",
       "0           4853        42.2            OWN    6.6   default           0   \n",
       "1           2510        83.7           RENT    4.6   default           0   \n",
       "2          16333        91.2       MORTGAGE    6.8   default           0   \n",
       "3          20142        89.9       MORTGAGE    3.8   default           0   \n",
       "4          15831        91.5       MORTGAGE    5.8   default           0   \n",
       "...          ...         ...            ...    ...       ...         ...   \n",
       "45337      24895        61.3           RENT    3.4  paid off           7   \n",
       "45338       9725        58.2           RENT    4.2  paid off           8   \n",
       "45339       4925        40.7       MORTGAGE    4.2  paid off           3   \n",
       "45340       6574        73.0       MORTGAGE    2.4  paid off           1   \n",
       "45341      10303        32.4       MORTGAGE    5.2  paid off           1   \n",
       "\n",
       "      emp_len_  borrower_score  borrower_score2  \n",
       "0            f            0.40         0.457627  \n",
       "1            f            0.35         0.474576  \n",
       "2            f            0.25         0.440678  \n",
       "3            f            0.55         0.372881  \n",
       "4            f            0.30         0.322034  \n",
       "...        ...             ...              ...  \n",
       "45337        t            0.55         0.457627  \n",
       "45338        t            0.35         0.288136  \n",
       "45339        t            0.50         0.508475  \n",
       "45340        t            0.55         0.474576  \n",
       "45341        t            0.65         0.508475  \n",
       "\n",
       "[45342 rows x 15 columns]"
      ]
     },
     "execution_count": 29,
     "metadata": {},
     "output_type": "execute_result"
    }
   ],
   "source": [
    "df"
   ]
  },
  {
   "cell_type": "code",
   "execution_count": 30,
   "metadata": {},
   "outputs": [
    {
     "data": {
      "text/plain": [
       "status               Charged Off\n",
       "loan_amnt                   2500\n",
       "term                           f\n",
       "annual_inc                 12000\n",
       "dti                         16.3\n",
       "payment_inc_ratio          7.778\n",
       "revol_bal                   4853\n",
       "revol_util                  42.2\n",
       "home_ownership               OWN\n",
       "grade                        6.6\n",
       "outcome                  default\n",
       "emp_length                     0\n",
       "emp_len_                       f\n",
       "borrower_score               0.4\n",
       "borrower_score2         0.457627\n",
       "Name: 0, dtype: object"
      ]
     },
     "execution_count": 30,
     "metadata": {},
     "output_type": "execute_result"
    }
   ],
   "source": [
    "df.iloc[0,:]"
   ]
  },
  {
   "cell_type": "code",
   "execution_count": null,
   "metadata": {},
   "outputs": [],
   "source": []
  }
 ],
 "metadata": {
  "kernelspec": {
   "display_name": "Python 3 (ipykernel)",
   "language": "python",
   "name": "python3"
  },
  "language_info": {
   "codemirror_mode": {
    "name": "ipython",
    "version": 3
   },
   "file_extension": ".py",
   "mimetype": "text/x-python",
   "name": "python",
   "nbconvert_exporter": "python",
   "pygments_lexer": "ipython3",
   "version": "3.9.6"
  }
 },
 "nbformat": 4,
 "nbformat_minor": 2
}
